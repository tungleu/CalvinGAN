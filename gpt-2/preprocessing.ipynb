{
 "cells": [
  {
   "cell_type": "code",
   "execution_count": 7,
   "metadata": {},
   "outputs": [],
   "source": [
    "import pandas as pd\n",
    "from sklearn.model_selection import train_test_split\n",
    "import re"
   ]
  },
  {
   "cell_type": "code",
   "execution_count": 20,
   "metadata": {},
   "outputs": [],
   "source": [
    "# f = open('data.txt')\n",
    "# f_write = open(\"text_data.txt\", \"w\")\n",
    "# for line in f:\n",
    "#     text = re.sub('[^A-Za-z0-9]+',' ', line) + \"\\n\"\n",
    "#     f_write.write(text)\n",
    "# f.close()\n",
    "# f_write.close()"
   ]
  },
  {
   "cell_type": "code",
   "execution_count": 25,
   "metadata": {},
   "outputs": [
    {
     "data": {
      "text/html": [
       "<div>\n",
       "<style scoped>\n",
       "    .dataframe tbody tr th:only-of-type {\n",
       "        vertical-align: middle;\n",
       "    }\n",
       "\n",
       "    .dataframe tbody tr th {\n",
       "        vertical-align: top;\n",
       "    }\n",
       "\n",
       "    .dataframe thead th {\n",
       "        text-align: right;\n",
       "    }\n",
       "</style>\n",
       "<table border=\"1\" class=\"dataframe\">\n",
       "  <thead>\n",
       "    <tr style=\"text-align: right;\">\n",
       "      <th></th>\n",
       "      <th>text</th>\n",
       "    </tr>\n",
       "  </thead>\n",
       "  <tbody>\n",
       "    <tr>\n",
       "      <th>0</th>\n",
       "      <td>my THIS PIECE 1S ABouT WE INADEQUACY OFTRADITI...</td>\n",
       "    </tr>\n",
       "    <tr>\n",
       "      <th>1</th>\n",
       "      <td>BY ABANDONING REPRESEN TATIONALISM TM FREE TO...</td>\n",
       "    </tr>\n",
       "    <tr>\n",
       "      <th>2</th>\n",
       "      <td>TL NOTICE YOUR fur 1s vEL cH Movoconowaric i s...</td>\n",
       "    </tr>\n",
       "    <tr>\n",
       "      <th>3</th>\n",
       "      <td>THERES THE STEGOSWIRUS OMT FRONT THERES THE NA...</td>\n",
       "    </tr>\n",
       "    <tr>\n",
       "      <th>4</th>\n",
       "      <td>WL SUSIE WHAT 00 YOOWAVE FOR LUNCH TODAY</td>\n",
       "    </tr>\n",
       "    <tr>\n",
       "      <th>...</th>\n",
       "      <td>...</td>\n",
       "    </tr>\n",
       "    <tr>\n",
       "      <th>5472</th>\n",
       "      <td>I THINKGENIUSES SHOULDBE GINENSPECIALCONSIDERA...</td>\n",
       "    </tr>\n",
       "    <tr>\n",
       "      <th>5473</th>\n",
       "      <td>AMIN BasedUO Ro</td>\n",
       "    </tr>\n",
       "    <tr>\n",
       "      <th>5474</th>\n",
       "      <td>wes You DIONDp AVERY GO 308 THEN ITLOOKS AS HE...</td>\n",
       "    </tr>\n",
       "    <tr>\n",
       "      <th>5475</th>\n",
       "      <td>You SHOND TAKEPRIDE IN RAATou Ob AN ALWINS 7Oo...</td>\n",
       "    </tr>\n",
       "    <tr>\n",
       "      <th>5476</th>\n",
       "      <td>1 DONT NEED TO DOABETTER 908 I NEED GETTEPR ON...</td>\n",
       "    </tr>\n",
       "  </tbody>\n",
       "</table>\n",
       "<p>5477 rows × 1 columns</p>\n",
       "</div>"
      ],
      "text/plain": [
       "                                                   text\n",
       "0     my THIS PIECE 1S ABouT WE INADEQUACY OFTRADITI...\n",
       "1      BY ABANDONING REPRESEN TATIONALISM TM FREE TO...\n",
       "2     TL NOTICE YOUR fur 1s vEL cH Movoconowaric i s...\n",
       "3     THERES THE STEGOSWIRUS OMT FRONT THERES THE NA...\n",
       "4             WL SUSIE WHAT 00 YOOWAVE FOR LUNCH TODAY \n",
       "...                                                 ...\n",
       "5472  I THINKGENIUSES SHOULDBE GINENSPECIALCONSIDERA...\n",
       "5473                                   AMIN BasedUO Ro \n",
       "5474  wes You DIONDp AVERY GO 308 THEN ITLOOKS AS HE...\n",
       "5475  You SHOND TAKEPRIDE IN RAATou Ob AN ALWINS 7Oo...\n",
       "5476  1 DONT NEED TO DOABETTER 908 I NEED GETTEPR ON...\n",
       "\n",
       "[5477 rows x 1 columns]"
      ]
     },
     "execution_count": 25,
     "metadata": {},
     "output_type": "execute_result"
    }
   ],
   "source": [
    "df = pd.read_csv('./text_data.txt',names=['text'])\n",
    "df"
   ]
  },
  {
   "cell_type": "code",
   "execution_count": 27,
   "metadata": {},
   "outputs": [],
   "source": [
    "train_test_ratio = 0.9\n",
    "train_valid_ratio = 7/9\n",
    "df_full_train, df_test = train_test_split(df, train_size = train_test_ratio, random_state = 1)\n",
    "df_train, df_valid = train_test_split(df_full_train, train_size = train_valid_ratio, random_state = 1)\n"
   ]
  },
  {
   "cell_type": "code",
   "execution_count": 28,
   "metadata": {},
   "outputs": [],
   "source": [
    "def build_dataset(df, dest_path):\n",
    "    f = open(dest_path, 'w')\n",
    "    data = ''\n",
    "    texts = df['text'].tolist()\n",
    "    for text in texts:\n",
    "        text = str(text).strip()\n",
    "        text = re.sub(r\"\\s\", \" \", text)\n",
    "        bos_token = '<BOS>'\n",
    "        eos_token = '<EOS>'\n",
    "        data += bos_token + ' ' + text + ' ' + eos_token + '\\n'\n",
    "        \n",
    "    f.write(data)"
   ]
  },
  {
   "cell_type": "code",
   "execution_count": 29,
   "metadata": {},
   "outputs": [],
   "source": [
    "build_dataset(df_train, 'train.txt')\n",
    "build_dataset(df_valid, 'valid.txt')\n",
    "build_dataset(df_test, 'test.txt')"
   ]
  }
 ],
 "metadata": {
  "kernelspec": {
   "display_name": "venv",
   "language": "python",
   "name": "venv"
  },
  "language_info": {
   "codemirror_mode": {
    "name": "ipython",
    "version": 3
   },
   "file_extension": ".py",
   "mimetype": "text/x-python",
   "name": "python",
   "nbconvert_exporter": "python",
   "pygments_lexer": "ipython3",
   "version": "3.8.6"
  }
 },
 "nbformat": 4,
 "nbformat_minor": 4
}
